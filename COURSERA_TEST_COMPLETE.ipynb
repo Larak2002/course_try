{
 "cells": [
  {
   "cell_type": "markdown",
   "metadata": {},
   "source": [
    "<center>\n",
    "    <img src=\"https://cf-courses-data.s3.us.cloud-object-storage.appdomain.cloud/IBMDeveloperSkillsNetwork-DS0105EN-SkillsNetwork/labs/Module2/images/SN_web_lightmode.png\" width=\"300\" alt=\"cognitiveclass.ai logo\">\n",
    "</center>\n"
   ]
  },
  {
   "cell_type": "markdown",
   "metadata": {},
   "source": [
    "#### Add your code below following the instructions given in the course\n"
   ]
  },
  {
   "cell_type": "markdown",
   "metadata": {},
   "source": [
    "# Peer-graded Assignment: Tools for Data Science"
   ]
  },
  {
   "cell_type": "markdown",
   "metadata": {},
   "source": [
    "#### Introduction: In this exercise i will show you how do I use the most useless stuff in python for beginners such as: making overly impressive markdowns, sharing on git (the code that you don't know how to write in this level) and of course some actual material. Enjoy!"
   ]
  },
  {
   "cell_type": "markdown",
   "metadata": {},
   "source": [
    "### Data science languages \n",
    "* Python\n",
    "* R\n",
    "* SQL\n",
    "* Java\n",
    "* C/C++"
   ]
  },
  {
   "cell_type": "markdown",
   "metadata": {},
   "source": [
    "### Data science libraries\n",
    "\n",
    "* NumPy\n",
    "* Pandas\n",
    "* Matplotlib\n",
    "* Seaborn\n",
    "* TensorFlow\n",
    "* PyTorch"
   ]
  },
  {
   "cell_type": "markdown",
   "metadata": {},
   "source": [
    "### Data science tools\n",
    "\n",
    "| Data Science Tools | More Tools |\n",
    "| -------------| ------ |\n",
    "| Jupyter Notebook | git |\n",
    "| RStudio | Tableau |\n",
    "| Apache Hadoop | Apache Spark |"
   ]
  },
  {
   "cell_type": "markdown",
   "metadata": {
    "tags": []
   },
   "source": [
    "### Arithmetic expression examples:\n",
    "\n",
    "* 1+1 = 2\n",
    "* 1-1 = 0\n",
    "* 1*1 = 1\n",
    "* 1/1 = 1"
   ]
  },
  {
   "cell_type": "code",
   "execution_count": 2,
   "metadata": {
    "tags": []
   },
   "outputs": [
    {
     "name": "stdout",
     "output_type": "stream",
     "text": [
      "3\n",
      "6\n"
     ]
    }
   ],
   "source": [
    "# multiply and add numbers\n",
    "def adding(num1, num2):\n",
    "    result = num1 + num2\n",
    "    return (result)\n",
    "\n",
    "def multiplying(num1, num2):\n",
    "    result = num1 * num2\n",
    "    return (result)\n",
    "\n",
    "print(adding(1,2))\n",
    "print(multiplying(2,3))"
   ]
  },
  {
   "cell_type": "code",
   "execution_count": 7,
   "metadata": {
    "tags": []
   },
   "outputs": [
    {
     "name": "stdout",
     "output_type": "stream",
     "text": [
      "2.2 Hours\n"
     ]
    }
   ],
   "source": [
    "# convert minutes to hours\n",
    "def min_to_Hour(num):\n",
    "    result =  round(num/60,1)\n",
    "    return result\n",
    "\n",
    "print(str(min_to_Hour(130)) + \" Hours\")"
   ]
  },
  {
   "cell_type": "markdown",
   "metadata": {},
   "source": [
    "### Objectives of this notebook\n",
    "\n",
    "* chack your knowlage on jupyter notebook\n",
    "* chack your knowlage on Data Sciance\n",
    "* chack your knowlage on markdowns\n",
    "* chack your knowlage on basic commands in python"
   ]
  },
  {
   "cell_type": "markdown",
   "metadata": {},
   "source": [
    "### Author: Lara"
   ]
  },
  {
   "cell_type": "code",
   "execution_count": null,
   "metadata": {},
   "outputs": [],
   "source": []
  }
 ],
 "metadata": {
  "kernelspec": {
   "display_name": "Python 3",
   "language": "python",
   "name": "python3"
  },
  "language_info": {
   "codemirror_mode": {
    "name": "ipython",
    "version": 3
   },
   "file_extension": ".py",
   "mimetype": "text/x-python",
   "name": "python",
   "nbconvert_exporter": "python",
   "pygments_lexer": "ipython3",
   "version": "3.8.3"
  }
 },
 "nbformat": 4,
 "nbformat_minor": 4
}
